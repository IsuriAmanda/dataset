{
  "cells": [
    {
      "cell_type": "markdown",
      "metadata": {
        "id": "view-in-github",
        "colab_type": "text"
      },
      "source": [
        "<a href=\"https://colab.research.google.com/github/IsuriAmanda/dataset/blob/main/DataPreprocessing.ipynb\" target=\"_parent\"><img src=\"https://colab.research.google.com/assets/colab-badge.svg\" alt=\"Open In Colab\"/></a>"
      ]
    },
    {
      "cell_type": "markdown",
      "metadata": {
        "id": "lucP2tEMT1lb"
      },
      "source": [
        "Imported Relevant Libraries"
      ]
    },
    {
      "cell_type": "code",
      "execution_count": null,
      "metadata": {
        "colab": {
          "base_uri": "https://localhost:8080/"
        },
        "id": "fYOJn2aURTYS",
        "outputId": "b34856d2-6c0f-4a19-9769-efc41ba3c3a1"
      },
      "outputs": [
        {
          "output_type": "stream",
          "name": "stdout",
          "text": [
            "Summary Statistics of the Dataset\n",
            "             index        Stock\n",
            "count  9271.000000  9235.000000\n",
            "mean   4635.000000    26.246454\n",
            "std    2676.451507    58.462891\n",
            "min       0.000000     0.000000\n",
            "25%    2317.500000     3.000000\n",
            "50%    4635.000000     8.000000\n",
            "75%    6952.500000    31.000000\n",
            "max    9270.000000  1234.000000\n",
            "<class 'pandas.core.frame.DataFrame'>\n",
            "RangeIndex: 9271 entries, 0 to 9270\n",
            "Data columns (total 7 columns):\n",
            " #   Column      Non-Null Count  Dtype  \n",
            "---  ------      --------------  -----  \n",
            " 0   index       9271 non-null   int64  \n",
            " 1   SKU Code    9188 non-null   object \n",
            " 2   Design No.  9235 non-null   object \n",
            " 3   Stock       9235 non-null   float64\n",
            " 4   Category    9226 non-null   object \n",
            " 5   Size        9235 non-null   object \n",
            " 6   Color       9226 non-null   object \n",
            "dtypes: float64(1), int64(1), object(5)\n",
            "memory usage: 507.1+ KB\n",
            "None\n",
            "   index       SKU Code Design No.  Stock       Category Size Color\n",
            "0      0    AN201-RED-L      AN201    5.0  AN : LEGGINGS    L   Red\n",
            "1      1    AN201-RED-M      AN201    5.0  AN : LEGGINGS    M   Red\n",
            "2      2    AN201-RED-S      AN201    3.0  AN : LEGGINGS    S   Red\n",
            "3      3   AN201-RED-XL      AN201    6.0  AN : LEGGINGS   XL   Red\n",
            "4      4  AN201-RED-XXL      AN201    3.0  AN : LEGGINGS  XXL   Red\n"
          ]
        }
      ],
      "source": [
        "# IMPORTING LIBRARIES\n",
        "import numpy as np\n",
        "import pandas as pd\n",
        "import seaborn as sns\n",
        "sns.set_palette('husl')\n",
        "import matplotlib.pyplot as plt\n",
        "\n",
        "df = pd.read_csv('/content/drive/MyDrive/Preprocessing /Sale Report.csv')\n",
        "print('Summary Statistics of the Dataset')\n",
        "print(df.describe())\n",
        "print(df.info())\n",
        "print(df.head())\n",
        "\n"
      ]
    }
  ],
  "metadata": {
    "colab": {
      "provenance": [],
      "include_colab_link": true
    },
    "kernelspec": {
      "display_name": "Python 3",
      "name": "python3"
    },
    "language_info": {
      "name": "python"
    }
  },
  "nbformat": 4,
  "nbformat_minor": 0
}